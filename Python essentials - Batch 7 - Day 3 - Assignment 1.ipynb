{
 "cells": [
  {
   "cell_type": "code",
   "execution_count": 1,
   "metadata": {},
   "outputs": [
    {
     "name": "stdout",
     "output_type": "stream",
     "text": [
      "Enter Current Altitude in ft:800\n",
      "Pilot, you can go for landing\n"
     ]
    }
   ],
   "source": [
    "ca = input(\"Enter Current Altitude in ft:\")              # ca here Current Altitude\n",
    "\n",
    "ca=int(ca)\n",
    "\n",
    "if ca < 1000 :\n",
    "    print(\"Pilot, you can go for landing\")\n",
    "elif ca in range (1000, 5000) :\n",
    "    print(\"Pilot, to get ready for landing please go down to an altitude of less than 1000ft\")\n",
    "else :\n",
    "    print(\"Pilot, go around and try again\")"
   ]
  },
  {
   "cell_type": "code",
   "execution_count": 2,
   "metadata": {},
   "outputs": [
    {
     "name": "stdout",
     "output_type": "stream",
     "text": [
      "Enter Current Altitude in ft:1500\n",
      "Pilot, to get ready for landing please go down to an altitude of less than 1000ft\n"
     ]
    }
   ],
   "source": [
    "ca = input(\"Enter Current Altitude in ft:\")              # ca here Current Altitude\n",
    "\n",
    "ca=int(ca)\n",
    "\n",
    "if ca < 1000 :\n",
    "    print(\"Pilot, you can go for landing\")\n",
    "elif ca in range (1000, 5000) :\n",
    "    print(\"Pilot, to get ready for landing please go down to an altitude of less than 1000ft\")\n",
    "else :\n",
    "    print(\"Pilot, go around and try again\")"
   ]
  },
  {
   "cell_type": "code",
   "execution_count": 3,
   "metadata": {},
   "outputs": [
    {
     "name": "stdout",
     "output_type": "stream",
     "text": [
      "Enter Current Altitude in ft:6000\n",
      "Pilot, go around and try again\n"
     ]
    }
   ],
   "source": [
    "ca = input(\"Enter Current Altitude in ft:\")              # ca here Current Altitude\n",
    "\n",
    "ca=int(ca)\n",
    "\n",
    "if ca < 1000 :\n",
    "    print(\"Pilot, you can go for landing\")\n",
    "elif ca in range (1000, 5000) :\n",
    "    print(\"Pilot, to get ready for landing please go down to an altitude of less than 1000ft\")\n",
    "else :\n",
    "    print(\"Pilot, go around and try again\")"
   ]
  },
  {
   "cell_type": "code",
   "execution_count": null,
   "metadata": {},
   "outputs": [],
   "source": []
  }
 ],
 "metadata": {
  "kernelspec": {
   "display_name": "Python 3",
   "language": "python",
   "name": "python3"
  },
  "language_info": {
   "codemirror_mode": {
    "name": "ipython",
    "version": 3
   },
   "file_extension": ".py",
   "mimetype": "text/x-python",
   "name": "python",
   "nbconvert_exporter": "python",
   "pygments_lexer": "ipython3",
   "version": "3.8.3"
  }
 },
 "nbformat": 4,
 "nbformat_minor": 4
}
